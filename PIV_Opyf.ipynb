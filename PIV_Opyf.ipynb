{
  "cells": [
    {
      "cell_type": "markdown",
      "metadata": {
        "id": "view-in-github",
        "colab_type": "text"
      },
      "source": [
        "<a href=\"https://colab.research.google.com/github/syauqyideas/opyf_notebook/blob/main/PIV_Opyf.ipynb\" target=\"_parent\"><img src=\"https://colab.research.google.com/assets/colab-badge.svg\" alt=\"Open In Colab\"/></a>"
      ]
    },
    {
      "cell_type": "markdown",
      "source": [
        "<h2>>Install Package - Package yang dibutuhkan untuk jalankan Opyf"
      ],
      "metadata": {
        "id": "qr9T1mzIazRM"
      }
    },
    {
      "cell_type": "code",
      "execution_count": null,
      "metadata": {
        "id": "_7Ki2gEdQQlG"
      },
      "outputs": [],
      "source": [
        "!pip install PyQt6 ipykernel scipy matplotlib h5py tqdm opencv-python vtk ipython opyf\n",
        "import IPython #at some point, i just bored to see the dirty output\n",
        "from IPython.display import clear_output\n",
        "clear_output() #you can take away this"
      ]
    },
    {
      "cell_type": "markdown",
      "source": [
        "<h2>Mounting Google Drive"
      ],
      "metadata": {
        "id": "jDVa0Uhqa7BB"
      }
    },
    {
      "cell_type": "code",
      "execution_count": null,
      "metadata": {
        "colab": {
          "base_uri": "https://localhost:8080/"
        },
        "id": "kr62GMyrY7Rn",
        "outputId": "cc0a389d-ee48-4dbb-84b7-5f5b958c352b"
      },
      "outputs": [
        {
          "output_type": "stream",
          "name": "stdout",
          "text": [
            "Mounted at /content/drive\n"
          ]
        }
      ],
      "source": [
        "from google.colab import drive\n",
        "drive.mount('/content/drive')"
      ]
    },
    {
      "cell_type": "markdown",
      "source": [
        "<h2>Masukkan Video ke dalam Variable"
      ],
      "metadata": {
        "id": "DJNhVslYbRkV"
      }
    },
    {
      "cell_type": "code",
      "execution_count": null,
      "metadata": {
        "id": "6JbT8AR6QpCa"
      },
      "outputs": [],
      "source": [
        "import opyf\n",
        "analyzer = opyf.videoAnalyzer('/content/drive/MyDrive/Skripsi/MVI_9958.mp4')"
      ]
    },
    {
      "cell_type": "code",
      "execution_count": null,
      "metadata": {
        "id": "a3327d2a"
      },
      "outputs": [],
      "source": [
        "analyzer.extractGoodFeaturesAndDisplacements(saveImgPath='/content/')\n",
        "clear_output()"
      ]
    },
    {
      "cell_type": "code",
      "execution_count": null,
      "metadata": {
        "id": "kHqWshlihREq"
      },
      "outputs": [],
      "source": [
        "#analyzer.set_vlim([0,1])\n",
        "#analyzer.extractGoodFeaturesDisplacementsAccumulateAndInterpolate()"
      ]
    },
    {
      "cell_type": "markdown",
      "metadata": {
        "id": "fsZnbFxMrv5X"
      },
      "source": [
        "<h2>Tentukan Range Frame yang akan di analisis"
      ]
    },
    {
      "cell_type": "code",
      "execution_count": null,
      "metadata": {
        "id": "k3DTBEA7iJB7"
      },
      "outputs": [],
      "source": [
        "frame_mulai_analisis = 400\n",
        "step_analisis = 1\n",
        "jumlah_analisis = 10\n",
        "analyzer.set_vecTime(starting_frame=frame_mulai_analisis, step=step_analisis, shift=1, Ntot=jumlah_analisis)\n",
        "#analyzer.extractGoodFeaturesDisplacementsAccumulateAndInterpolate(saveImgPath='/content/')\n",
        "clear_output()"
      ]
    },
    {
      "cell_type": "code",
      "execution_count": null,
      "metadata": {
        "id": "gRQpxGlGrbBb"
      },
      "outputs": [],
      "source": [
        "#analyzer.extractGoodFeaturesAndDisplacements(saveImgPath='/content/')\n",
        "analyzer.extractGoodFeaturesDisplacementsAccumulateAndInterpolate()\n",
        "analyzer.writeGoodFeaturesPositionsAndDisplacements(fileFormat='csv', outFolder='/content/')\n",
        "analyzer.writeVelocityField(fileFormat='csv')"
      ]
    }
  ],
  "metadata": {
    "colab": {
      "provenance": [],
      "include_colab_link": true
    },
    "kernelspec": {
      "display_name": "Python 3",
      "name": "python3"
    },
    "language_info": {
      "name": "python"
    }
  },
  "nbformat": 4,
  "nbformat_minor": 0
}